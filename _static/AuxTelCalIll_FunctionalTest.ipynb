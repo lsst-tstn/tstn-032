{
 "cells": [
  {
   "cell_type": "markdown",
   "id": "66953411",
   "metadata": {},
   "source": [
    "# AuxTel Calibration Illumination System Functional Test"
   ]
  },
  {
   "cell_type": "markdown",
   "id": "5fc900e0",
   "metadata": {},
   "source": [
    "This notebook is meant to be used a functional checkout of the AuxTel illumination system. It includes all functionality but doesn't necessarily show how the system should be used in operation. It was written within the context of the Tucson Teststand and should be modified to be run on the summit."
   ]
  },
  {
   "cell_type": "code",
   "execution_count": null,
   "id": "4fdba962",
   "metadata": {},
   "outputs": [],
   "source": [
    "import asyncio\n",
    "\n",
    "import numpy as np\n",
    "import pandas as pd\n",
    "import matplotlib.pyplot as plt\n",
    "\n",
    "from astropy.io import fits\n",
    "from astropy.time import Time\n",
    "from astropy.table import Table\n",
    "\n",
    "from lsst_efd_client import EfdClient\n",
    "client = EfdClient('summit_efd')\n",
    "\n",
    "from lsst.ts import salobj"
   ]
  },
  {
   "cell_type": "code",
   "execution_count": null,
   "id": "582744d1",
   "metadata": {},
   "outputs": [],
   "source": [
    "# change this to a local directory\n",
    "data_dir = '/home/parfa30/DATA'"
   ]
  },
  {
   "cell_type": "code",
   "execution_count": null,
   "id": "ca265d8d",
   "metadata": {},
   "outputs": [],
   "source": [
    "d = salobj.Domain()"
   ]
  },
  {
   "cell_type": "markdown",
   "id": "bd0fe9a6",
   "metadata": {},
   "source": [
    "### Connect to CSCs"
   ]
  },
  {
   "cell_type": "code",
   "execution_count": null,
   "id": "804e9aac",
   "metadata": {},
   "outputs": [],
   "source": [
    "atmonochromator = salobj.Remote(d, 'ATMonochromator')\n",
    "FiberSpectrograph = salobj.Remote(name=\"FiberSpectrograph\", domain=d, index=3)\n",
    "electrometer = salobj.Remote(name=\"Electrometer\", domain=d, index=201) \n",
    "WhiteLightSource = salobj.Remote(name='ATWhiteLight', domain=d)"
   ]
  },
  {
   "cell_type": "code",
   "execution_count": null,
   "id": "06512f70",
   "metadata": {},
   "outputs": [],
   "source": [
    "await atmonochromator.start_task\n",
    "await FiberSpectrograph.start_task\n",
    "await electrometer.start_task\n",
    "await WhiteLightSource.start_task"
   ]
  },
  {
   "cell_type": "code",
   "execution_count": null,
   "id": "89835bba",
   "metadata": {},
   "outputs": [],
   "source": [
    "async def get_status():\n",
    "    mono_tmp = await atmonochromator.evt_summaryState.aget()\n",
    "    spec_tmp = await FiberSpectrograph.evt_summaryState.aget()\n",
    "    elec_tmp = await electrometer.evt_summaryState.aget()\n",
    "    wls_tmp = await WhiteLightSource.evt_summaryState.aget()\n",
    "    print('Monochromator: ',salobj.State(mono_tmp.summaryState))\n",
    "    print('Fiber Spectrometer: ',salobj.State(spec_tmp.summaryState))\n",
    "    print('Electrometer: ',salobj.State(elec_tmp.summaryState))\n",
    "    print('WhiteLightSource: ',salobj.State(wls_tmp.summaryState))"
   ]
  },
  {
   "cell_type": "code",
   "execution_count": null,
   "id": "37002c43",
   "metadata": {},
   "outputs": [],
   "source": [
    "await get_status()"
   ]
  },
  {
   "cell_type": "markdown",
   "id": "80d7373d",
   "metadata": {},
   "source": [
    "### Test White Light Source"
   ]
  },
  {
   "cell_type": "markdown",
   "id": "6cc96efe",
   "metadata": {},
   "source": [
    "Note: don't cycle the WLS between Standby and Enabled. You will have to wait 15 minutes on either side of turning it on and off. You can power cycle the other CSCs"
   ]
  },
  {
   "cell_type": "code",
   "execution_count": null,
   "id": "13431e42",
   "metadata": {},
   "outputs": [],
   "source": [
    "state = salobj.State.ENABLED\n",
    "tmp = await salobj.set_summary_state(WhiteLightSource, state)"
   ]
  },
  {
   "cell_type": "code",
   "execution_count": null,
   "id": "aa224de0",
   "metadata": {},
   "outputs": [],
   "source": [
    "#Start chiller\n",
    "tmp = await WhiteLightSource.cmd_setChillerTemperature.set_start(temperature=20)\n",
    "tmp = await WhiteLightSource.cmd_startChiller.set_start()\n",
    "# Confirm that the chiller has started and running at 20C"
   ]
  },
  {
   "cell_type": "code",
   "execution_count": null,
   "id": "062ca52c",
   "metadata": {},
   "outputs": [],
   "source": [
    "#Test shutters\n",
    "tmp = await WhiteLightSource.cmd_closeShutter.set_start()"
   ]
  },
  {
   "cell_type": "code",
   "execution_count": null,
   "id": "188eef09",
   "metadata": {},
   "outputs": [],
   "source": [
    "tmp = await WhiteLightSource.cmd_openShutter.set_start()\n",
    "#Keep shutter open so you can see the lamp turned on"
   ]
  },
  {
   "cell_type": "code",
   "execution_count": null,
   "id": "4c19610f",
   "metadata": {},
   "outputs": [],
   "source": [
    "#Turn on lamp. It will then go into a warm up period before it will turn on \n",
    "tmp = await WhiteLightSource.cmd_turnLampOn.set_start(power = 800)"
   ]
  },
  {
   "cell_type": "code",
   "execution_count": null,
   "id": "7067572d",
   "metadata": {},
   "outputs": [],
   "source": [
    "LampBasicState = {0:'Unknown',1:'Off',2:'On',3:'?',4:'Cooldown',5:'Warmup'}\n",
    "LampControllerError = {-1:'NoError',0:'Unknown',1:'KillSwitch',2:'ChassisOverheating',\n",
    "                       3:'AccessDoor',4:'BallastOverheasting',5:'USBDisconnected',6:'AirflowMalfunction',\n",
    "                       7:'LampStuckOn',8:'AirflowMalfunction'}\n",
    "LampControllerState = {0:'Unknown',1:'Off',2:'StandbyOrOn',3:'Cooldown',4:'Error'}"
   ]
  },
  {
   "cell_type": "code",
   "execution_count": null,
   "id": "d306b879",
   "metadata": {},
   "outputs": [],
   "source": [
    "state = await WhiteLightSource.evt_lampState.aget()\n",
    "print('Lamp State: ', LampBasicState[state.basicState])\n",
    "print('Lamp Controller State: ', LampControllerState[state.controllerState])\n",
    "print('Lamp Controller Error: ', LampControllerError[state.controllerError])\n",
    "\n",
    "if LampBasicState[state.basicState] == 'Cooldown':\n",
    "    time_left = state.cooldownEndTime - state.private_rcvStamp\n",
    "    print('Time Left: {} min.'.format(time_left/60.))\n",
    "\n",
    "elif LampBasicState[state.basicState] == 'Warmup':\n",
    "    time_left = state.warmupEndTime - state.private_rcvStamp\n",
    "    print('Time Left: {} min.'.format(time_left/60.))"
   ]
  },
  {
   "cell_type": "code",
   "execution_count": null,
   "id": "fb6c32da",
   "metadata": {},
   "outputs": [],
   "source": [
    "# When it is done warming up, turn up the lamp\n",
    "tmp = await WhiteLightSource.cmd_turnLampOn.set_start(power=1000)"
   ]
  },
  {
   "cell_type": "code",
   "execution_count": null,
   "id": "7c6c45bf",
   "metadata": {},
   "outputs": [],
   "source": [
    "# When you are done with all testing, turn off the White Light Source, \n",
    "tmp = await WhiteLightSource.cmd_turnLampOff.set_start()\n",
    "## note, you can also send it a Force=True if there is some issue and you need to turn off the lamp"
   ]
  },
  {
   "cell_type": "code",
   "execution_count": null,
   "id": "d016ef66",
   "metadata": {},
   "outputs": [],
   "source": [
    "# Wait 10 minutes, then turn off the Chiller\n",
    "tmp = await await WhiteLightSource.cmd_stopChiller.set_start()"
   ]
  },
  {
   "cell_type": "code",
   "execution_count": null,
   "id": "ada71f89",
   "metadata": {},
   "outputs": [],
   "source": [
    "# When everything is turned off, you can turn off power to the KiloArc and Chiller using the PDU\n",
    "# auxtel-illpdu.cp.lsst.org"
   ]
  },
  {
   "cell_type": "markdown",
   "id": "fb78a8e8",
   "metadata": {},
   "source": [
    "### Test Monochromator"
   ]
  },
  {
   "cell_type": "code",
   "execution_count": null,
   "id": "9c4906f6",
   "metadata": {},
   "outputs": [],
   "source": [
    "state = salobj.State.ENABLED\n",
    "tmp = await salobj.set_summary_state(atmonochromator, state)"
   ]
  },
  {
   "cell_type": "code",
   "execution_count": null,
   "id": "7baa8f01",
   "metadata": {},
   "outputs": [],
   "source": [
    "async def get_params():\n",
    "    tmp1 = await atmonochromator.evt_wavelength.aget()\n",
    "    tmp2 = await atmonochromator.evt_entrySlitWidth.aget()\n",
    "    tmp3 = await atmonochromator.evt_exitSlitWidth.aget()\n",
    "    tmp4 = await atmonochromator.evt_selectedGrating.aget()\n",
    "    return (tmp1.wavelength, tmp2.width, tmp3.width, tmp4.gratingType)"
   ]
  },
  {
   "cell_type": "code",
   "execution_count": null,
   "id": "8f70a132",
   "metadata": {},
   "outputs": [],
   "source": [
    "await get_params()"
   ]
  },
  {
   "cell_type": "code",
   "execution_count": null,
   "id": "888211e0",
   "metadata": {},
   "outputs": [],
   "source": [
    "# Change wavelength. Confirm that the color changes\n",
    "for wave in [400, 500, 600, 700]:\n",
    "    await atmonochromator.cmd_changeWavelength.set_start(wavelength=wave)"
   ]
  },
  {
   "cell_type": "code",
   "execution_count": null,
   "id": "cfaabcd1",
   "metadata": {},
   "outputs": [],
   "source": [
    "# Change slit size. Confirm that the brightness changes by eye\n",
    "for entry in [0.5, 4.5]:\n",
    "    for exit in [0.5, 4.5]:\n",
    "        await atmonochromator.cmd_changeSlitWidth.set_start(slit=1, slitWidth=entry_width)\n",
    "        await atmonochromator.cmd_changeSlitWidth.set_start(slit=2, slitWidth=exit_width)"
   ]
  },
  {
   "cell_type": "code",
   "execution_count": null,
   "id": "80e8655a",
   "metadata": {},
   "outputs": [],
   "source": [
    "# Change grating. If this times out, send monochromator to STANDBY and then back to ENABLED. \n",
    "# It takes a long time to change the grating.\n",
    "for grating in [0,1]:\n",
    "    await atmonochromator.cmd_selectGrating.set_start(gratingType=grating, timeout=60)"
   ]
  },
  {
   "cell_type": "markdown",
   "id": "1460e654",
   "metadata": {},
   "source": [
    "### Test Electrometer"
   ]
  },
  {
   "cell_type": "code",
   "execution_count": null,
   "id": "7ece1942",
   "metadata": {},
   "outputs": [],
   "source": [
    "state = salobj.State.ENABLED\n",
    "tmp = await salobj.set_summary_state(electrometer, state, override='tts_cimacs3_v3.yaml',timeout=20)"
   ]
  },
  {
   "cell_type": "code",
   "execution_count": null,
   "id": "09c64f73",
   "metadata": {},
   "outputs": [],
   "source": [
    "await electrometer.cmd_performZeroCalib.set_start(timeout=10)\n",
    "await electrometer.cmd_setDigitalFilter.set_start(activateFilter=False, activateAvgFilter=False, activateMedFilter=False, timeout=10)    "
   ]
  },
  {
   "cell_type": "code",
   "execution_count": null,
   "id": "24a99796",
   "metadata": {},
   "outputs": [],
   "source": [
    "mode = await electrometer.evt_measureType.aget()\n",
    "intTime = await electrometer.evt_integrationTime.aget()\n",
    "range_ = await electrometer.evt_measureRange.aget()\n",
    "print(f'Mode: {mode.mode}; Int. Time: {intTime.intTime}; Range: {range_.rangeValue}')"
   ]
  },
  {
   "cell_type": "code",
   "execution_count": null,
   "id": "59a5344c",
   "metadata": {},
   "outputs": [],
   "source": [
    "exp_time = 1 #sec\n",
    "etmp1=await electrometer.cmd_startScan.set_start(timeout=10)\n",
    "await asyncio.sleep(exp_time)\n",
    "tmp2=await electrometer.cmd_stopScan.set_start(timeout=10)\n",
    "lfa = await electrometer.evt_largeFileObjectAvailable.next(flush=False, timeout=10)\n",
    "filename= os.path.split(lfa.url)[1]"
   ]
  },
  {
   "cell_type": "code",
   "execution_count": null,
   "id": "c4b8a80a",
   "metadata": {},
   "outputs": [],
   "source": [
    "#transfer file to your machine so you can look at it\n",
    "elec_filen = os.path.join(data_dir, filename)\n",
    "os.system(f\"curl {lfa.url} --output {elec_filen}\")"
   ]
  },
  {
   "cell_type": "code",
   "execution_count": null,
   "id": "171c5f5c",
   "metadata": {},
   "outputs": [],
   "source": [
    "# Look at Data\n",
    "hdu = fits.open(f'{elec_filen}')\n",
    "data = hdu[1].data\n",
    "print(data)"
   ]
  },
  {
   "cell_type": "code",
   "execution_count": null,
   "id": "d95a8ddd",
   "metadata": {},
   "outputs": [],
   "source": [
    "# Plot Data\n",
    "plt.plot(data['ElapsedTime'], data['Signal'])\n",
    "plt.xlabel('ElapsedTime')\n",
    "plt.ylabel('Signal')"
   ]
  },
  {
   "cell_type": "markdown",
   "id": "51b057ae",
   "metadata": {},
   "source": [
    "### Test Fiber Spectrograph"
   ]
  },
  {
   "cell_type": "code",
   "execution_count": null,
   "id": "9a908a53",
   "metadata": {},
   "outputs": [],
   "source": [
    "state = salobj.State.ENABLED\n",
    "tmp = await salobj.set_summary_state(FiberSpectrograph, state)"
   ]
  },
  {
   "cell_type": "code",
   "execution_count": null,
   "id": "81d4e209",
   "metadata": {},
   "outputs": [],
   "source": [
    "exp_time = 1 #sec\n",
    "FiberSpectrograph.evt_largeFileObjectAvailable.flush()\n",
    "tmp1 = await FiberSpectrograph.cmd_expose.set_start(duration=exp_time, numExposures=1)\n",
    "lfa = await FiberSpectrograph.evt_largeFileObjectAvailable.next(flush=False, timeout=10)\n",
    "filename = os.path.split(lfa.url)[1]"
   ]
  },
  {
   "cell_type": "code",
   "execution_count": null,
   "id": "81158976",
   "metadata": {},
   "outputs": [],
   "source": [
    "#transfer file to your machine so you can look at it\n",
    "spec_filen = os.path.join(data_dir, filename)\n",
    "os.system(f\"curl {lfa.url} --output {spec_filen}\")"
   ]
  },
  {
   "cell_type": "code",
   "execution_count": null,
   "id": "f662ef5d",
   "metadata": {},
   "outputs": [],
   "source": [
    "# Look at Data\n",
    "hdu = fits.open(f'{elec_filen}')\n",
    "wavelength = hdu[1].data['wavelength'].flatten()\n",
    "spectra = hdu[0].data"
   ]
  },
  {
   "cell_type": "code",
   "execution_count": null,
   "id": "214df3e5",
   "metadata": {},
   "outputs": [],
   "source": [
    "# Plot data\n",
    "for spec in spectra: #there is probably only one\n",
    "    plt.plot(wavelength, spec)\n",
    "plt.xlabel('Wavelength (nm)')\n",
    "plt.ylabel('Counts')"
   ]
  },
  {
   "cell_type": "markdown",
   "id": "cafde913",
   "metadata": {},
   "source": [
    "## Test all Components Together"
   ]
  },
  {
   "cell_type": "code",
   "execution_count": null,
   "id": "8f1ef778",
   "metadata": {},
   "outputs": [],
   "source": [
    "async def set_params(wave, entry_width, exit_width, grating):\n",
    "    await atmonochromator.cmd_changeSlitWidth.set_start(slit=1, slitWidth=entry_width)\n",
    "    await atmonochromator.cmd_changeSlitWidth.set_start(slit=2, slitWidth=exit_width)\n",
    "    await atmonochromator.cmd_changeWavelength.set_start(wavelength=wave)\n",
    "    await atmonochromator.cmd_selectGrating.set_start(gratingType=grating, timeout=60)\n",
    "   \n",
    "    tmp1 = await atmonochromator.evt_wavelength.aget()\n",
    "    tmp2 = await atmonochromator.evt_entrySlitWidth.aget()\n",
    "    tmp3 = await atmonochromator.evt_exitSlitWidth.aget()\n",
    "    tmp4 = await atmonochromator.evt_selectedGrating.aget()\n",
    "    return (tmp1.wavelength, tmp2.width, tmp3.width, tmp4.gratingType)"
   ]
  },
  {
   "cell_type": "code",
   "execution_count": null,
   "id": "6d3d807e",
   "metadata": {},
   "outputs": [],
   "source": [
    "def get_file_transfer(lfa):\n",
    "    filename = os.path.split(lfa.url)[1]\n",
    "    save_dir = os.path.join(data_dir, filename.split(':')[0])\n",
    "    if not os.path.exists(save_dir):\n",
    "        os.mkdir(save_dir)\n",
    "    save_file = os.path.join(save_dir, filename)\n",
    "    os.system(f\"curl {lfa.url} --output {save_file}\")\n",
    "    return save_file"
   ]
  },
  {
   "cell_type": "code",
   "execution_count": null,
   "id": "9e200e21",
   "metadata": {},
   "outputs": [],
   "source": [
    "async def elec_meas(exp_time):\n",
    "    tmp1=await electrometer.cmd_startScan.set_start(timeout=10)\n",
    "    await asyncio.sleep(exp_time)\n",
    "    tmp2=await electrometer.cmd_stopScan.set_start(timeout=10)\n",
    "    lfa = await electrometer.evt_largeFileObjectAvailable.next(flush=False, timeout=10)\n",
    "    filename = get_file_transfer(lfa)\n",
    "    return filename"
   ]
  },
  {
   "cell_type": "code",
   "execution_count": null,
   "id": "be9eb04a",
   "metadata": {},
   "outputs": [],
   "source": [
    "async def spect_meas(exp_time):\n",
    "    tmp1 = await FiberSpectrograph.cmd_expose.set_start(duration=exp_time, numExposures=1)\n",
    "    lfa = await FiberSpectrograph.evt_largeFileObjectAvailable.next(flush=False, timeout=10)\n",
    "    filename = get_file_transfer(lfa)\n",
    "    return filename"
   ]
  },
  {
   "cell_type": "code",
   "execution_count": null,
   "id": "88147b44",
   "metadata": {},
   "outputs": [],
   "source": [
    "data = []\n",
    "exp_time = 1.\n",
    "start = Time.now()\n",
    "for wls_power in [800, 900, 1000, 1100]:\n",
    "    tmp = await WhiteLightSource.cmd_turnLampOn.set_start(power=wls_power)\n",
    "    for wave in np.linspace(300, 1200, 10):\n",
    "        print(wave, Time.now())\n",
    "        for entry_width in [0.5, 4.9]: #[, 0.1]: #, 3., 4., 4.9]:\n",
    "            for exit_width in [0.5, 4.9]: #[0.02,0.04, 0.06, 0.08, 0.1]: #, 3., 4., 4.9]:\n",
    "                start_meas = Time.now().isot\n",
    "                wavelength, entry_width, exit_width, gratingType = await set_params(wave, entry_width, exit_width, grating)\n",
    "                await elec_meas(exp_time)   \n",
    "                spec_fn = await spect_meas(exp_time)\n",
    "                await asyncio.sleep(5.)\n",
    "                end_meas = Time.now().isot\n",
    "                data.append([start_meas, end_meas, wls_power, exp_time, wavelength, entry_width, exit_width, gratingType, spec_fn])"
   ]
  },
  {
   "cell_type": "code",
   "execution_count": null,
   "id": "9c45d9ec",
   "metadata": {},
   "outputs": [],
   "source": [
    "data = []\n",
    "exp_time = 1.\n",
    "start = Time.now()\n",
    "for wls_power in [800, 900, 1000, 1100]:\n",
    "    tmp = await WhiteLightSource.cmd_turnLampOn.set_start(power=wls_power)\n",
    "    for wave in np.linspace(500, 800, 3):\n",
    "        print(wave, Time.now())\n",
    "        for entry_width in [0.5, 4.9]: #[, 0.1]: #, 3., 4., 4.9]:\n",
    "            for exit_width in [0.5, 4.9]: #[0.02,0.04, 0.06, 0.08, 0.1]: #, 3., 4., 4.9]:\n",
    "                start_meas = Time.now().isot\n",
    "                wavelength, entry_width, exit_width, gratingType = await set_params(wave, entry_width, exit_width, grating)\n",
    "                elec_fn = await elec_meas(exp_time)   \n",
    "                spec_fn = await spect_meas(exp_time)\n",
    "                await asyncio.sleep(5.)\n",
    "                end_meas = Time.now().isot\n",
    "                data.append([start_meas, end_meas, wls_power, exp_time, wavelength, entry_width, exit_width, gratingType, spec_fn, elec_fn])"
   ]
  },
  {
   "cell_type": "code",
   "execution_count": null,
   "id": "3afd05bd",
   "metadata": {},
   "outputs": [],
   "source": [
    "df = pd.DataFrame(data, columns = ['start', 'end', 'wls_power', 'exp_time', 'wavelength','entry_slit', 'exit_slit', \n",
    "                                  'grating', 'spec_fn', 'elec_fn'])\n",
    "t = Table.from_pandas(df)"
   ]
  },
  {
   "cell_type": "markdown",
   "id": "8a2f5936",
   "metadata": {},
   "source": [
    "### Save Data into a single fits file"
   ]
  },
  {
   "cell_type": "code",
   "execution_count": null,
   "id": "e11ff2df",
   "metadata": {},
   "outputs": [],
   "source": [
    "# Save data into a single fits file\n",
    "elec_time = []\n",
    "elec_data = []\n",
    "wave = []\n",
    "spectra = []\n",
    "\n",
    "for row in t:\n",
    "    spec_fn = row[-2]\n",
    "    hdu = fits.open(spec_fn)\n",
    "    spectra.append(hdu[0].data)\n",
    "    wave.append(hdu[1].data['wavelength'].flatten())\n",
    "    \n",
    "    elec_fn = row[-1]\n",
    "    hdu = fits.open(elec_fn)\n",
    "    d = hdu[1].data\n",
    "    elec_time.append(d['Elapsed Time'])\n",
    "    elec_data.append(d['Signal'])\n",
    "    \n",
    "#Reshape the data to put it all in a fits file. Sorry, this is ugly\n",
    "shape_elec = max([len(l) for l in elec_time])\n",
    "shape_wave = max([len(l) for l in wave])\n",
    "\n",
    "elec_time2 = np.zeros((len(elec_time), shape_elec))\n",
    "elec_data2 = np.zeros((len(elec_time), shape_elec))\n",
    "for i, row in enumerate(elec_time):\n",
    "    elec_time2[i][0:row.shape[0]] = row\n",
    "    elec_data2[i][0:row.shape[0]] = np.array(elec_data)[i]\n",
    "\n",
    "hdulist = fits.HDUList()\n",
    "empty_primary = fits.PrimaryHDU()\n",
    "hdulist.append(empty_primary)\n",
    "\n",
    "#Make a rec array of the data\n",
    "hdulist.append(fits.BinTableHDU(t.as_array(), name='CONFIG'))\n",
    "\n",
    "hdulist.append(fits.ImageHDU(np.vstack(elec_time2), name='ELEC_TIME'))\n",
    "hdulist.append(fits.ImageHDU(np.vstack(elec_data2), name='ELEC_DATA'))\n",
    "hdulist.append(fits.ImageHDU(np.vstack(wave), name='WAVELENGTH'))\n",
    "hdulist.append(fits.ImageHDU(np.vstack(spectra), name='SPECTRA'))\n",
    "\n",
    "save_filen = '{}/{}.fits'.format(os.path.join(data_dir,'AuxTel'), 'test_20221209')\n",
    "hdulist.writeto(save_filen, overwrite=True)\n",
    "print('Data Saved to {}'.format(save_filen))"
   ]
  },
  {
   "cell_type": "code",
   "execution_count": null,
   "id": "81ea6314",
   "metadata": {},
   "outputs": [],
   "source": [
    "hdu = fits.open(save_filen)\n",
    "hdu.info()"
   ]
  },
  {
   "cell_type": "code",
   "execution_count": null,
   "id": "95ce995e",
   "metadata": {},
   "outputs": [],
   "source": [
    "Table(hdu[1].data)"
   ]
  },
  {
   "cell_type": "code",
   "execution_count": null,
   "id": "5c2f72a8",
   "metadata": {},
   "outputs": [],
   "source": [
    "waves = hdu[4].data\n",
    "spectra = hdu[5].data\n",
    "ret = plt.plot(waves, spectra)"
   ]
  }
 ],
 "metadata": {
  "kernelspec": {
   "display_name": "Python 3",
   "language": "python",
   "name": "python3"
  },
  "language_info": {
   "codemirror_mode": {
    "name": "ipython",
    "version": 3
   },
   "file_extension": ".py",
   "mimetype": "text/x-python",
   "name": "python",
   "nbconvert_exporter": "python",
   "pygments_lexer": "ipython3",
   "version": "3.7.3"
  }
 },
 "nbformat": 4,
 "nbformat_minor": 5
}
