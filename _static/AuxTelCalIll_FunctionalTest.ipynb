{
 "cells": [
  {
   "cell_type": "markdown",
   "id": "66953411",
   "metadata": {},
   "source": [
    "# AuxTel Calibration Illumination System Functional Test"
   ]
  },
  {
   "cell_type": "markdown",
   "id": "5fc900e0",
   "metadata": {},
   "source": [
    "This notebook is meant to be used a functional checkout of the AuxTel illumination system. It includes all functionality but doesn't necessarily show how the system should be used in operation. It was written within the context of the Tucson Teststand and should be modified to be run on the summit."
   ]
  },
  {
   "cell_type": "code",
   "execution_count": null,
   "id": "4fdba962",
   "metadata": {},
   "outputs": [],
   "source": [
    "import asyncio\n",
    "\n",
    "import numpy as np\n",
    "import pandas as pd\n",
    "import matplotlib.pyplot as plt\n",
    "\n",
    "from astropy.io import fits\n",
    "from astropy.time import Time\n",
    "from astropy.table import Table\n",
    "\n",
    "from lsst_efd_client import EfdClient\n",
    "client = EfdClient('tucson_teststand_efd')\n",
    "\n",
    "from lsst.ts import salobj"
   ]
  },
  {
   "cell_type": "code",
   "execution_count": null,
   "id": "ca265d8d",
   "metadata": {},
   "outputs": [],
   "source": [
    "d = salobj.Domain()"
   ]
  },
  {
   "cell_type": "markdown",
   "id": "bd0fe9a6",
   "metadata": {},
   "source": [
    "### Connect to CSCs"
   ]
  },
  {
   "cell_type": "code",
   "execution_count": null,
   "id": "804e9aac",
   "metadata": {},
   "outputs": [],
   "source": [
    "atmonochromator = salobj.Remote(d, 'ATMonochromator')\n",
    "FiberSpectrograph = salobj.Remote(name=\"FiberSpectrograph\", domain=d, index=3)\n",
    "electrometer = salobj.Remote(name=\"Electrometer\", domain=d, index=5) \n",
    "WhiteLightSource = salobj.Remote(name='ATWhiteLight', domain=d)"
   ]
  },
  {
   "cell_type": "code",
   "execution_count": null,
   "id": "06512f70",
   "metadata": {},
   "outputs": [],
   "source": [
    "await atmonochromator.start_task\n",
    "await FiberSpectrograph.start_task\n",
    "await electrometer.start_task\n",
    "await WhiteLightSource.start_task"
   ]
  },
  {
   "cell_type": "code",
   "execution_count": null,
   "id": "89835bba",
   "metadata": {},
   "outputs": [],
   "source": [
    "async def get_status():\n",
    "    mono_tmp = await atmonochromator.evt_summaryState.aget()\n",
    "    spec_tmp = await FiberSpectrograph.evt_summaryState.aget()\n",
    "    elec_tmp = await electrometer.evt_summaryState.aget()\n",
    "    wls_tmp = await WhiteLightSource.evt_summaryState.aget()\n",
    "    print('Monochromator: ',salobj.State(mono_tmp.summaryState))\n",
    "    print('Fiber Spectrometer: ',salobj.State(spec_tmp.summaryState))\n",
    "    print('Electrometer: ',salobj.State(elec_tmp.summaryState))\n",
    "    print('WhiteLightSource: ',salobj.State(wls_tmp.summaryState))"
   ]
  },
  {
   "cell_type": "code",
   "execution_count": null,
   "id": "37002c43",
   "metadata": {},
   "outputs": [],
   "source": [
    "await get_status()"
   ]
  },
  {
   "cell_type": "markdown",
   "id": "80d7373d",
   "metadata": {},
   "source": [
    "### Test White Light Source"
   ]
  },
  {
   "cell_type": "markdown",
   "id": "6cc96efe",
   "metadata": {},
   "source": [
    "Note: don't cycle the WLS between Standby and Enabled. You will have to wait 15 minutes on either side of turning it on and off. You can power cycle the other CSCs"
   ]
  },
  {
   "cell_type": "code",
   "execution_count": null,
   "id": "13431e42",
   "metadata": {},
   "outputs": [],
   "source": [
    "state = salobj.State.ENABLED\n",
    "tmp = await salobj.set_summary_state(WhiteLightSource, state)"
   ]
  },
  {
   "cell_type": "code",
   "execution_count": null,
   "id": "aa224de0",
   "metadata": {},
   "outputs": [],
   "source": [
    "#Start chiller\n",
    "tmp = await WhiteLightSource.cmd_setChillerTemperature.set_start(temperature=20)\n",
    "tmp = await WhiteLightSource.cmd_startChiller.set_start()\n",
    "# Confirm that the chiller has started and running at 20C"
   ]
  },
  {
   "cell_type": "code",
   "execution_count": null,
   "id": "062ca52c",
   "metadata": {},
   "outputs": [],
   "source": [
    "#Test shutters\n",
    "tmp = await WhiteLightSource.cmd_closeShutter.set_start()\n",
    "tmp = await WhiteLightSource.cmd_openShutter.set_start()\n",
    "#Keep shutter open so you can see the lamp turned on"
   ]
  },
  {
   "cell_type": "code",
   "execution_count": null,
   "id": "4c19610f",
   "metadata": {},
   "outputs": [],
   "source": [
    "#Turn on lamp. It will then go into a warm up period before it will turn on \n",
    "tmp = await WhiteLightSource.cmd_turnLampOn.set_start(power = 800)"
   ]
  },
  {
   "cell_type": "code",
   "execution_count": null,
   "id": "7067572d",
   "metadata": {},
   "outputs": [],
   "source": [
    "LampBasicState = {0:'Unknown',1:'Off',2:'On',3:'?',4:'Cooldown',5:'Warmup'}\n",
    "LampControllerError = {-1:'NoError',0:'Unknown',1:'KillSwitch',2:'ChassisOverheating',\n",
    "                       3:'AccessDoor',4:'BallastOverheasting',5:'USBDisconnected',6:'AirflowMalfunction',\n",
    "                       7:'LampStuckOn',8:'AirflowMalfunction'}\n",
    "LampControllerState = {0:'Unknown',1:'Off',2:'StandbyOrOn',3:'Cooldown',4:'Error'}"
   ]
  },
  {
   "cell_type": "code",
   "execution_count": null,
   "id": "d306b879",
   "metadata": {},
   "outputs": [],
   "source": [
    "state = await WhiteLightSource.evt_lampState.aget()\n",
    "print(state)\n",
    "print(LampBasicState[state.basicState], LampControllerError[state.controllerError], LampControllerState[state.controllerState])\n",
    "print((state.warmupEndTime - state.private_rcvStamp)/60.)\n",
    "if LampBasicState[state.basicState] == 'Cooldown':\n",
    "    time_left = state.cooldownEndTime - state.private_rcvStamp\n",
    "    print('Time Left: {} min.'.format(time_left/60.))\n",
    "\n",
    "elif LampBasicState[state.basicState] == 'Warmup':\n",
    "    time_left = state.warmupEndTime - state.private_rcvStamp\n",
    "    print('Time Left: {} min.'.format(time_left/60.))"
   ]
  },
  {
   "cell_type": "code",
   "execution_count": null,
   "id": "fb6c32da",
   "metadata": {},
   "outputs": [],
   "source": [
    "# When it is done warming up, turn up the lamp\n",
    "tmp = await WhiteLightSource.cmd_turnLampOn.set_start(power=1000)"
   ]
  },
  {
   "cell_type": "markdown",
   "id": "fb78a8e8",
   "metadata": {},
   "source": [
    "### Test Monochromator"
   ]
  },
  {
   "cell_type": "code",
   "execution_count": null,
   "id": "9c4906f6",
   "metadata": {},
   "outputs": [],
   "source": [
    "state = salobj.State.ENABLED\n",
    "tmp = await salobj.set_summary_state(atmonochromator, state)"
   ]
  },
  {
   "cell_type": "code",
   "execution_count": null,
   "id": "7baa8f01",
   "metadata": {},
   "outputs": [],
   "source": [
    "async def get_params():\n",
    "    tmp1 = await atmonochromator.evt_wavelength.aget()\n",
    "    tmp2 = await atmonochromator.evt_entrySlitWidth.aget()\n",
    "    tmp3 = await atmonochromator.evt_exitSlitWidth.aget()\n",
    "    tmp4 = await atmonochromator.evt_selectedGrating.aget()\n",
    "    return (tmp1.wavelength, tmp2.width, tmp3.width, tmp4.gratingType)"
   ]
  },
  {
   "cell_type": "code",
   "execution_count": null,
   "id": "8f70a132",
   "metadata": {},
   "outputs": [],
   "source": [
    "await get_params()"
   ]
  },
  {
   "cell_type": "code",
   "execution_count": null,
   "id": "888211e0",
   "metadata": {},
   "outputs": [],
   "source": [
    "# Change wavelength. Confirm that the color changes\n",
    "for wave in [400, 500, 600, 700]:\n",
    "    await atmonochromator.cmd_changeWavelength.set_start(wavelength=wave)"
   ]
  },
  {
   "cell_type": "code",
   "execution_count": null,
   "id": "cfaabcd1",
   "metadata": {},
   "outputs": [],
   "source": [
    "# Change slit size. Confirm that the brightness changes by eye\n",
    "for entry in [0.5, 4.5]:\n",
    "    for exit in [0.5, 4.5]:\n",
    "        await atmonochromator.cmd_changeSlitWidth.set_start(slit=1, slitWidth=entry_width)\n",
    "        await atmonochromator.cmd_changeSlitWidth.set_start(slit=2, slitWidth=exit_width)"
   ]
  },
  {
   "cell_type": "code",
   "execution_count": null,
   "id": "80e8655a",
   "metadata": {},
   "outputs": [],
   "source": [
    "# Change grating. Might not see any difference\n",
    "for grating in [0,1]:\n",
    "    await atmonochromator.cmd_selectGrating.set_start(gratingType=grating, timeout=60)"
   ]
  },
  {
   "cell_type": "markdown",
   "id": "1460e654",
   "metadata": {},
   "source": [
    "### Test Electrometer"
   ]
  },
  {
   "cell_type": "code",
   "execution_count": null,
   "id": "7ece1942",
   "metadata": {},
   "outputs": [],
   "source": [
    "state = salobj.State.ENABLED\n",
    "tmp = await salobj.set_summary_state(electrometer, state, override='tts_cimacs3_v3.yaml',timeout=20)"
   ]
  },
  {
   "cell_type": "code",
   "execution_count": null,
   "id": "09c64f73",
   "metadata": {},
   "outputs": [],
   "source": [
    "await electrometer.cmd_performZeroCalib.set_start(timeout=10)\n",
    "await electrometer.cmd_setDigitalFilter.set_start(activateFilter=False, activateAvgFilter=False, activateMedFilter=False, timeout=10)    "
   ]
  },
  {
   "cell_type": "code",
   "execution_count": null,
   "id": "24a99796",
   "metadata": {},
   "outputs": [],
   "source": [
    "# Check settings"
   ]
  },
  {
   "cell_type": "code",
   "execution_count": null,
   "id": "59a5344c",
   "metadata": {},
   "outputs": [],
   "source": [
    "exp_time = 1 #sec\n",
    "etmp1=await electrometer.cmd_startScan.set_start(timeout=10)\n",
    "await asyncio.sleep(exp_time)\n",
    "tmp2=await electrometer.cmd_stopScan.set_start(timeout=10)"
   ]
  },
  {
   "cell_type": "code",
   "execution_count": null,
   "id": "a639957c",
   "metadata": {},
   "outputs": [],
   "source": [
    "# Get data from the efd\n",
    "start_log_topic = 'lsst.sal.Electrometer.command_startScan'\n",
    "start_df =  await client.select_time_series(start_log_topic, ['salIndex'], start=start_time, end=end_time)\n",
    "start_df['message'] = 'startScan Completed'\n",
    "start_df['functionName'] = 'do_startScan'\n",
    "msg_log_topic = 'lsst.sal.Electrometer.logevent_logMessage'\n",
    "msg_df = await client.select_time_series(msg_log_topic,['salIndex','functionName','message'], start=start_time, end=end_time)\n",
    "elec_df = pd.concat([start_df, msg_df])\n",
    "elec_df.sort_index(inplace=True)\n",
    "print(elec_df)"
   ]
  },
  {
   "cell_type": "code",
   "execution_count": null,
   "id": "32810819",
   "metadata": {},
   "outputs": [],
   "source": [
    "# Look at data from file\n",
    "filen = #get from efd\n"
   ]
  },
  {
   "cell_type": "markdown",
   "id": "51b057ae",
   "metadata": {},
   "source": [
    "### Test Fiber Spectrograph"
   ]
  },
  {
   "cell_type": "code",
   "execution_count": null,
   "id": "9a908a53",
   "metadata": {},
   "outputs": [],
   "source": [
    "state = salobj.State.ENABLED\n",
    "tmp = await salobj.set_summary_state(FiberSpectrograph, state)"
   ]
  },
  {
   "cell_type": "code",
   "execution_count": null,
   "id": "81d4e209",
   "metadata": {},
   "outputs": [],
   "source": [
    "exp_time = 1 #sec\n",
    "FiberSpectrograph.evt_largeFileObjectAvailable.flush()\n",
    "tmp1 = await FiberSpectrograph.cmd_expose.set_start(duration=exp_time, numExposures=1)\n",
    "lfa = await FiberSpectrograph.evt_largeFileObjectAvailable.next(flush=False, timeout=10)\n",
    "filename=lfa.url.split('FiberSpectrograph')[-1]\n",
    "print(filename)"
   ]
  },
  {
   "cell_type": "code",
   "execution_count": null,
   "id": "81158976",
   "metadata": {},
   "outputs": [],
   "source": [
    "#Get data\n",
    "os.system(f\"curl {lfa.url} --output /home/parfa30/DATA/fiberSpec_files/{filename}\")\n",
    "return filename"
   ]
  },
  {
   "cell_type": "markdown",
   "id": "cafde913",
   "metadata": {},
   "source": [
    "## Test all Components Together"
   ]
  },
  {
   "cell_type": "code",
   "execution_count": null,
   "id": "8f1ef778",
   "metadata": {},
   "outputs": [],
   "source": [
    "async def set_params(wave, entry_width, exit_width, grating):\n",
    "    await atmonochromator.cmd_changeSlitWidth.set_start(slit=1, slitWidth=entry_width)\n",
    "    await atmonochromator.cmd_changeSlitWidth.set_start(slit=2, slitWidth=exit_width)\n",
    "    await atmonochromator.cmd_changeWavelength.set_start(wavelength=wave)\n",
    "    await atmonochromator.cmd_selectGrating.set_start(gratingType=grating, timeout=60)\n",
    "   \n",
    "    tmp1 = await atmonochromator.evt_wavelength.aget()\n",
    "    tmp2 = await atmonochromator.evt_entrySlitWidth.aget()\n",
    "    tmp3 = await atmonochromator.evt_exitSlitWidth.aget()\n",
    "    tmp4 = await atmonochromator.evt_selectedGrating.aget()\n",
    "    return (tmp1.wavelength, tmp2.width, tmp3.width, tmp4.gratingType)"
   ]
  },
  {
   "cell_type": "code",
   "execution_count": null,
   "id": "9e200e21",
   "metadata": {},
   "outputs": [],
   "source": [
    "async def elec_meas(exp_time):\n",
    "    tmp1=await electrometer.cmd_startScan.set_start(timeout=10)\n",
    "    await asyncio.sleep(exp_time)\n",
    "    tmp2=await electrometer.cmd_stopScan.set_start(timeout=10)"
   ]
  },
  {
   "cell_type": "code",
   "execution_count": null,
   "id": "be9eb04a",
   "metadata": {},
   "outputs": [],
   "source": [
    "async def spect_meas(exp_time):\n",
    "    FiberSpectrograph.evt_largeFileObjectAvailable.flush()\n",
    "    tmp1 = await FiberSpectrograph.cmd_expose.set_start(duration=exp_time, numExposures=1)\n",
    "    lfa = await FiberSpectrograph.evt_largeFileObjectAvailable.next(flush=False, timeout=10)\n",
    "    filename=lfa.url.split('FiberSpectrograph')[-1]\n",
    "    os.system(f\"curl {lfa.url} --output /home/parfa30/DATA/fiberSpec_files/{filename}\")\n",
    "    return filename"
   ]
  },
  {
   "cell_type": "code",
   "execution_count": null,
   "id": "79796146",
   "metadata": {},
   "outputs": [],
   "source": [
    "async def get_elec_data(start_time, end_time, electrometer_id):\n",
    "    start_log_topic = 'lsst.sal.Electrometer.command_startScan'\n",
    "    start_df =  await client.select_time_series(start_log_topic, ['salIndex'], start=start_time, end=end_time)\n",
    "    start_df['message'] = 'startScan Completed'\n",
    "    start_df['functionName'] = 'do_startScan'\n",
    "    msg_log_topic = 'lsst.sal.Electrometer.logevent_logMessage'\n",
    "    msg_df = await client.select_time_series(msg_log_topic,['salIndex','functionName','message'], start=start_time, end=end_time)\n",
    "    elec_df = pd.concat([start_df, msg_df])\n",
    "    elec_df.sort_index(inplace=True)\n",
    "    #print(elec_df)\n",
    "    data = []\n",
    "    scans = elec_df[elec_df.salIndex == electrometer_id]\n",
    "    scans.reset_index(inplace=True)\n",
    "    if len(scans) > 0:\n",
    "        for i, row in scans.iterrows():\n",
    "            if row['functionName'] == 'write_fits_file':\n",
    "                try:\n",
    "                    file_row = scans.iloc[i]\n",
    "                    filen = file_row['message'].split(' ')[-1]\n",
    "                    summary_row = scans.iloc[i+1]\n",
    "                    if 'Scan Summary' in summary_row['message']:\n",
    "                        x = summary_row['message']\n",
    "                        x = x.split(':')[1].split(',')\n",
    "                        mean_ = float(x[0].strip(' ').strip('['))\n",
    "                        median_ = float(x[1].strip(' '))\n",
    "                        std_ = float(x[2].strip(' ').strip(']'))\n",
    "                    else:\n",
    "                        filen, mean_, median_, std_ = 'None', np.nan, np.nan, np.nan\n",
    "                except:\n",
    "                    filen, mean_, median_, std_= 'None', np.nan, np.nan, np.nan\n",
    "\n",
    "                return filen, mean_, median_, std_\n",
    "    else:\n",
    "        return ('None', np.nan, np.nan, np.nan)"
   ]
  },
  {
   "cell_type": "code",
   "execution_count": null,
   "id": "88147b44",
   "metadata": {},
   "outputs": [],
   "source": [
    "data = []\n",
    "exp_time = 1.\n",
    "start = Time.now()\n",
    "for wls_power in [800, 900, 1000, 1100]:\n",
    "    tmp = await WhiteLightSource.cmd_turnLampOn.set_start(power=wls_power)\n",
    "    for wave in np.linspace(300, 1200, 10):\n",
    "        print(wave, Time.now())\n",
    "        for entry_width in [0.5, 4.9]: #[, 0.1]: #, 3., 4., 4.9]:\n",
    "            for exit_width in [0.5, 4.9]: #[0.02,0.04, 0.06, 0.08, 0.1]: #, 3., 4., 4.9]:\n",
    "                start_meas = Time.now().isot\n",
    "                wavelength, entry_width, exit_width, gratingType = await set_params(wave, entry_width, exit_width, grating)\n",
    "                await elec_meas(exp_time)   \n",
    "                spec_fn = await spect_meas(exp_time)\n",
    "                await asyncio.sleep(5.)\n",
    "                end_meas = Time.now().isot\n",
    "                data.append([start_meas, end_meas, wls_power, exp_time, wavelength, entry_width, exit_width, gratingType, spec_fn])"
   ]
  },
  {
   "cell_type": "code",
   "execution_count": null,
   "id": "9c45d9ec",
   "metadata": {},
   "outputs": [],
   "source": [
    "elec_data = []\n",
    "for i, row in df.iterrows():\n",
    "    try:\n",
    "        filen_, mean_, median_, std_ = await get_step_data(Time(row['start']), Time(row['end']), 5)\n",
    "        elec_data.append([row['start'], row['end'], filen_, mean_, median_, std_])\n",
    "    except:\n",
    "        elec_data.append([row['start'], row['end'], 'None', np.nan, np.nan, np.nan])\n",
    "dd = pd.DataFrame(elec_data, columns = ['start','end','filen','mean','median','std'])\n",
    "ee = [Time(e).isot for e in df['end']]\n",
    "ss = [Time(e).isot for e in df['start']]\n",
    "t = Table.from_pandas(dd)\n",
    "t['end'] = ee\n",
    "t['start'] = ss\n",
    "    \n",
    "spectra = []\n",
    "for f in df['file']:\n",
    "    fs_file = os.path.join('/home/parfa30/DATA/fiberSpec_files', f)\n",
    "    hdu = fits.open(fs_file)\n",
    "    wave = hdu[1].data['wavelength'][0].flatten()\n",
    "    spectra.append(hdu[0].data)\n",
    "\n",
    "waves = np.array(wave, dtype=[('Wavelength', ')])"
   ]
  }
 ],
 "metadata": {
  "kernelspec": {
   "display_name": "Python 3",
   "language": "python",
   "name": "python3"
  },
  "language_info": {
   "codemirror_mode": {
    "name": "ipython",
    "version": 3
   },
   "file_extension": ".py",
   "mimetype": "text/x-python",
   "name": "python",
   "nbconvert_exporter": "python",
   "pygments_lexer": "ipython3",
   "version": "3.7.3"
  }
 },
 "nbformat": 4,
 "nbformat_minor": 5
}
